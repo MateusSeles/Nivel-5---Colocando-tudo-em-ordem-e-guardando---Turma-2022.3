{
  "nbformat": 4,
  "nbformat_minor": 0,
  "metadata": {
    "colab": {
      "provenance": [],
      "authorship_tag": "ABX9TyM81HSI0yTuv/qAq4erRTQg",
      "include_colab_link": true
    },
    "kernelspec": {
      "name": "python3",
      "display_name": "Python 3"
    },
    "language_info": {
      "name": "python"
    }
  },
  "cells": [
    {
      "cell_type": "markdown",
      "metadata": {
        "id": "view-in-github",
        "colab_type": "text"
      },
      "source": [
        "<a href=\"https://colab.research.google.com/github/MateusSeles/Nivel-5---Colocando-tudo-em-ordem-e-guardando---Turma-2022.3/blob/main/Missao5_MateusBasilio.ipynb\" target=\"_parent\"><img src=\"https://colab.research.google.com/assets/colab-badge.svg\" alt=\"Open In Colab\"/></a>"
      ]
    },
    {
      "cell_type": "markdown",
      "source": [
        "<img src='https://logodownload.org/wp-content/uploads/2014/12/estacio-logo.png' width=\"300\">\n",
        "\n",
        "##**Faculdade Estácio**\n",
        "## Graduação Desenvolvimento Full Stack - Campus Pitangueiras \n",
        "# **Aluno: Mateus Seles Basílio**\n",
        "\n",
        "### Nível 5 - Colocando tudo em ordem e guardando - Turma 2022.3 - 1º semestre\n",
        "#### Professor : Robson Lorbieski\n"
      ],
      "metadata": {
        "id": "UCH5iH9NdteH"
      }
    },
    {
      "cell_type": "markdown",
      "source": [
        "#**Projeto Nivel 5** - \n",
        "**Colocando tudo em ordem e guardando.** - \n",
        "Apresentação do trabalho."
      ],
      "metadata": {
        "id": "KzM_ON22hGbr"
      }
    },
    {
      "cell_type": "markdown",
      "source": [
        "##**Objetivo do trabalho**\n",
        "###**Implementar um programa para manipular dados de um arquivo texto e visualizá-los em um histograma e nuvem de palavras.**\n",
        "###Nestre trabalho temos **5 objetivos**:\n",
        "###**1º** - gerar dados de testes.\n",
        "###**2º** - gravar e recuperar dados de arquivo de texto.\n",
        "###**3º** - Manipular os dados para visualizá-los em um histograma.\n",
        "###**4º** - Manipular os dados para visualizá-los em uma nuvem de palavras.\n",
        "###**5º** - Implementar um programa pra gerar dados com nomes de pessoas e respectivas pontuações, gravar em um arquivo, recuperar os dados do arquivo, visualizar os dados das pontuações das pessoas em um histograma e em uma nuvem de palavras."
      ],
      "metadata": {
        "id": "8zkiHIhIh0WE"
      }
    },
    {
      "cell_type": "markdown",
      "source": [
        "#**Instalação dos módulos.** "
      ],
      "metadata": {
        "id": "NUbQwzuTkm96"
      }
    },
    {
      "cell_type": "code",
      "source": [
        "!pip install faker"
      ],
      "metadata": {
        "colab": {
          "base_uri": "https://localhost:8080/"
        },
        "id": "KFlcdVAWk2Xx",
        "outputId": "3ea5f464-bfa1-449d-8314-84c88bfc71d9"
      },
      "execution_count": 2,
      "outputs": [
        {
          "output_type": "stream",
          "name": "stdout",
          "text": [
            "Looking in indexes: https://pypi.org/simple, https://us-python.pkg.dev/colab-wheels/public/simple/\n",
            "Collecting faker\n",
            "  Downloading Faker-15.3.3-py3-none-any.whl (1.6 MB)\n",
            "\u001b[K     |████████████████████████████████| 1.6 MB 8.0 MB/s \n",
            "\u001b[?25hRequirement already satisfied: typing-extensions>=3.10.0.1 in /usr/local/lib/python3.7/dist-packages (from faker) (4.1.1)\n",
            "Requirement already satisfied: python-dateutil>=2.4 in /usr/local/lib/python3.7/dist-packages (from faker) (2.8.2)\n",
            "Requirement already satisfied: six>=1.5 in /usr/local/lib/python3.7/dist-packages (from python-dateutil>=2.4->faker) (1.15.0)\n",
            "Installing collected packages: faker\n",
            "Successfully installed faker-15.3.3\n"
          ]
        }
      ]
    },
    {
      "cell_type": "code",
      "source": [
        "!pip install wordcloud"
      ],
      "metadata": {
        "colab": {
          "base_uri": "https://localhost:8080/"
        },
        "id": "HHwGJ-sqk65b",
        "outputId": "5a6ddbe1-2c7e-4612-ddc3-1dc8fb98fd1c"
      },
      "execution_count": 3,
      "outputs": [
        {
          "output_type": "stream",
          "name": "stdout",
          "text": [
            "Looking in indexes: https://pypi.org/simple, https://us-python.pkg.dev/colab-wheels/public/simple/\n",
            "Requirement already satisfied: wordcloud in /usr/local/lib/python3.7/dist-packages (1.8.2.2)\n",
            "Requirement already satisfied: matplotlib in /usr/local/lib/python3.7/dist-packages (from wordcloud) (3.2.2)\n",
            "Requirement already satisfied: numpy>=1.6.1 in /usr/local/lib/python3.7/dist-packages (from wordcloud) (1.21.6)\n",
            "Requirement already satisfied: pillow in /usr/local/lib/python3.7/dist-packages (from wordcloud) (7.1.2)\n",
            "Requirement already satisfied: kiwisolver>=1.0.1 in /usr/local/lib/python3.7/dist-packages (from matplotlib->wordcloud) (1.4.4)\n",
            "Requirement already satisfied: cycler>=0.10 in /usr/local/lib/python3.7/dist-packages (from matplotlib->wordcloud) (0.11.0)\n",
            "Requirement already satisfied: pyparsing!=2.0.4,!=2.1.2,!=2.1.6,>=2.0.1 in /usr/local/lib/python3.7/dist-packages (from matplotlib->wordcloud) (3.0.9)\n",
            "Requirement already satisfied: python-dateutil>=2.1 in /usr/local/lib/python3.7/dist-packages (from matplotlib->wordcloud) (2.8.2)\n",
            "Requirement already satisfied: typing-extensions in /usr/local/lib/python3.7/dist-packages (from kiwisolver>=1.0.1->matplotlib->wordcloud) (4.1.1)\n",
            "Requirement already satisfied: six>=1.5 in /usr/local/lib/python3.7/dist-packages (from python-dateutil>=2.1->matplotlib->wordcloud) (1.15.0)\n"
          ]
        }
      ]
    },
    {
      "cell_type": "code",
      "source": [
        "!pip install num2words"
      ],
      "metadata": {
        "colab": {
          "base_uri": "https://localhost:8080/"
        },
        "id": "hiu8fsC-k9CM",
        "outputId": "61041440-ca46-4a96-b3dd-9108310a9b53"
      },
      "execution_count": 4,
      "outputs": [
        {
          "output_type": "stream",
          "name": "stdout",
          "text": [
            "Looking in indexes: https://pypi.org/simple, https://us-python.pkg.dev/colab-wheels/public/simple/\n",
            "Collecting num2words\n",
            "  Downloading num2words-0.5.12-py3-none-any.whl (125 kB)\n",
            "\u001b[K     |████████████████████████████████| 125 kB 5.4 MB/s \n",
            "\u001b[?25hCollecting docopt>=0.6.2\n",
            "  Downloading docopt-0.6.2.tar.gz (25 kB)\n",
            "Building wheels for collected packages: docopt\n",
            "  Building wheel for docopt (setup.py) ... \u001b[?25l\u001b[?25hdone\n",
            "  Created wheel for docopt: filename=docopt-0.6.2-py2.py3-none-any.whl size=13723 sha256=8ab7bb7a0c5226d2863e835ceb68f69d914d6ce90698c404e3dfc46b7f5d4f17\n",
            "  Stored in directory: /root/.cache/pip/wheels/72/b0/3f/1d95f96ff986c7dfffe46ce2be4062f38ebd04b506c77c81b9\n",
            "Successfully built docopt\n",
            "Installing collected packages: docopt, num2words\n",
            "Successfully installed docopt-0.6.2 num2words-0.5.12\n"
          ]
        }
      ]
    },
    {
      "cell_type": "markdown",
      "source": [
        "#**Importação das Bibliotecas.**"
      ],
      "metadata": {
        "id": "LWbNdRpplAti"
      }
    },
    {
      "cell_type": "code",
      "source": [
        "import matplotlib.pyplot as plt\n",
        "import numpy as np\n",
        "import pandas as pd\n",
        "import random\n",
        "\n",
        "from num2words import num2words\n",
        "from wordcloud import WordCloud\n",
        "from faker import Faker"
      ],
      "metadata": {
        "id": "SaZ9mwD4lHtq"
      },
      "execution_count": 5,
      "outputs": []
    },
    {
      "cell_type": "markdown",
      "source": [
        "#**Criando a variável \"n(int)\",  utilizando o Módulo Faker.**"
      ],
      "metadata": {
        "id": "N6aMsc0dlSxT"
      }
    },
    {
      "cell_type": "code",
      "source": [
        "fake = Faker('pt_br')\n",
        "n = int(10)\n",
        "lista_nomes = []\n",
        "lista_notas = []"
      ],
      "metadata": {
        "id": "j1y0NCiHlrg7"
      },
      "execution_count": 6,
      "outputs": []
    },
    {
      "cell_type": "markdown",
      "source": [
        "#**Criando as variáveis \"Nome\", \"Ponto\", e \"Resultado\" para gravar no arquivo txt.**"
      ],
      "metadata": {
        "id": "ke_iuaiEmdKi"
      }
    },
    {
      "cell_type": "code",
      "source": [
        "with open(\"arquivo.txt\", \"w\") as arquivo:\n",
        "  for i in range(n):\n",
        "    nome = fake.first_name() + \" \" + fake.last_name() \n",
        "    ponto = str(random.randint(0,10))\n",
        "    resultado = nome + \" \" + ponto + \"\\n\"\n",
        "    arquivo.write(resultado)\n",
        "\n",
        "    print(resultado)"
      ],
      "metadata": {
        "colab": {
          "base_uri": "https://localhost:8080/"
        },
        "id": "xHlEhBdVnvuq",
        "outputId": "4810a758-b851-4828-e61f-934ff5c6c24f"
      },
      "execution_count": 7,
      "outputs": [
        {
          "output_type": "stream",
          "name": "stdout",
          "text": [
            "Noah da Rocha 6\n",
            "\n",
            "Yago Lopes 5\n",
            "\n",
            "Vicente da Cruz 2\n",
            "\n",
            "Natália Pereira 4\n",
            "\n",
            "Fernanda Lopes 4\n",
            "\n",
            "Bianca Fogaça 8\n",
            "\n",
            "Arthur Alves 3\n",
            "\n",
            "Noah Pires 1\n",
            "\n",
            "Samuel Silva 8\n",
            "\n",
            "Luana Nogueira 10\n",
            "\n"
          ]
        }
      ]
    },
    {
      "cell_type": "markdown",
      "source": [
        "#**Abrindo, lendo, e recuperando os dados no arquivo.**"
      ],
      "metadata": {
        "id": "ZnWsq_Nxn1-I"
      }
    },
    {
      "cell_type": "code",
      "source": [
        "with open(\"arquivo.txt\", \"r\") as recuperar:\n",
        "  for i in range(n):\n",
        "    ler_conteudo = recuperar.readline() \n",
        "    separar_conteudo = ler_conteudo.split(' ') \n",
        "    ler_notas = int(separar_conteudo[-1]) \n",
        "    lista_notas.append(ler_notas) \n",
        "    lista_nomes_ext = num2words(ler_notas, lang = 'pt_br') \n",
        "    lista_nomes.append(lista_nomes_ext) \n",
        "    lista_nomes_str = (\" \").join(lista_nomes) "
      ],
      "metadata": {
        "id": "da846OPopJqg"
      },
      "execution_count": 8,
      "outputs": []
    },
    {
      "cell_type": "markdown",
      "source": [
        "#**Gerando o Histograma.**"
      ],
      "metadata": {
        "id": "H9X18TfppaNv"
      }
    },
    {
      "cell_type": "code",
      "source": [
        "plt.title('Histograma das Pontuações')\n",
        "plt.xlabel('Pontuações')\n",
        "plt.ylabel('Probabilidade')\n",
        "plt.xlim(-0.5,10.5) #0.5 a mais e a menos, pro gráfico ficar bonito\n",
        "plt.hist(lista_notas, bins=np.arange(-0.5,11), density=True, align=\"mid\", rwidth=0.9) #criando a probabilidade no gráfico e mais coisinhas pra deixar ele bonito\n",
        "plt.show()"
      ],
      "metadata": {
        "colab": {
          "base_uri": "https://localhost:8080/",
          "height": 295
        },
        "id": "MoInzpWgqNzo",
        "outputId": "1b998feb-cd6d-422c-c7e9-5531549f54be"
      },
      "execution_count": 9,
      "outputs": [
        {
          "output_type": "display_data",
          "data": {
            "text/plain": [
              "<Figure size 432x288 with 1 Axes>"
            ],
            "image/png": "[encoded data removed]"
          },
          "metadata": {
            "needs_background": "light"
          }
        }
      ]
    },
    {
      "cell_type": "markdown",
      "source": [
        "#**Gerando uma nuvem de palavras.**"
      ],
      "metadata": {
        "id": "rdY17mcIqQvq"
      }
    },
    {
      "cell_type": "code",
      "source": [
        "wordcloud = WordCloud().generate(lista_nomes_str) #jogando a string de numeros extensos na nuvem de palavras\n",
        "plt.imshow(wordcloud, interpolation='bilinear')\n",
        "plt.axis('off')\n",
        "plt.show()\n",
        "wordcloud.to_file(\"NuvemDePalavras.png\")\n",
        "recuperar.close()"
      ],
      "metadata": {
        "colab": {
          "base_uri": "https://localhost:8080/",
          "height": 198
        },
        "id": "xm-pAUF4qYnq",
        "outputId": "25b2079f-6eb2-468c-f0cc-ccc425e9675a"
      },
      "execution_count": 10,
      "outputs": [
        {
          "output_type": "display_data",
          "data": {
            "text/plain": [
              "<Figure size 432x288 with 1 Axes>"
            ],
            "image/png": "[encoded data removed]"
          },
          "metadata": {
            "needs_background": "light"
          }
        }
      ]
    },
    {
      "cell_type": "markdown",
      "source": [
        "#**Análise e Conclusão.**"
      ],
      "metadata": {
        "id": "jhDvuiq2rcTo"
      }
    },
    {
      "cell_type": "markdown",
      "source": [
        "##**1 - Qual a importância de manipular arquivos de texto ?**##\n",
        "###**Resposta**: Tanto para salvar informações que estão em sua aplicação ou em um arquivo externo, para controlar ou separar os dados, e utilizar este dados em outras aplicações. \n",
        "\n",
        "##**2 - Qual a importância de visualizar os dados em um histograma?**##\n",
        "###**Resposta**: O Histograma permite facilmente a visualização de resultados históricos e também a análise de evidências para que tomada de decisão seja feita com mais eficácia.\n",
        "\n",
        "##**3 - O que significa a visualização por nuvem de palavras?**##\n",
        "###**Resposta**: é um recurso visual composto por palavras soltas a respeito de um determinado assunto. Essa ferramenta consegue evidenciar as palavras que foram mais mencionadas entre outras aplicações."
      ],
      "metadata": {
        "id": "m1G_c8R1rmCo"
      }
    }
  ]
}